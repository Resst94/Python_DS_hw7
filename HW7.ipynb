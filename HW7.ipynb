{
 "cells": [
  {
   "cell_type": "code",
   "execution_count": 1,
   "id": "c35b93ae",
   "metadata": {},
   "outputs": [
    {
     "name": "stdout",
     "output_type": "stream",
     "text": [
      "Requirement already satisfied: surprise in /opt/anaconda3/lib/python3.11/site-packages (0.1)\r\n",
      "Requirement already satisfied: scikit-surprise in /opt/anaconda3/lib/python3.11/site-packages (from surprise) (1.1.4)\r\n",
      "Requirement already satisfied: joblib>=1.2.0 in /opt/anaconda3/lib/python3.11/site-packages (from scikit-surprise->surprise) (1.2.0)\r\n",
      "Requirement already satisfied: numpy>=1.19.5 in /opt/anaconda3/lib/python3.11/site-packages (from scikit-surprise->surprise) (1.26.4)\r\n",
      "Requirement already satisfied: scipy>=1.6.0 in /opt/anaconda3/lib/python3.11/site-packages (from scikit-surprise->surprise) (1.11.4)\r\n"
     ]
    }
   ],
   "source": [
    "!pip install surprise\n",
    "from surprise import Dataset, accuracy\n",
    "from surprise.model_selection import cross_validate, GridSearchCV\n",
    "from surprise.prediction_algorithms import BaselineOnly, SVD, SVDpp, NMF"
   ]
  },
  {
   "cell_type": "markdown",
   "id": "fc6d40fd",
   "metadata": {},
   "source": [
    "### Завантажуємо movielens-100k датасет(алгоритм запропонує завантажити його, якщо необхідно)"
   ]
  },
  {
   "cell_type": "code",
   "execution_count": 2,
   "id": "39e2b535",
   "metadata": {},
   "outputs": [
    {
     "name": "stdout",
     "output_type": "stream",
     "text": [
      "Dataset ml-100k could not be found. Do you want to download it? [Y/n] y\n",
      "Trying to download dataset from https://files.grouplens.org/datasets/movielens/ml-100k.zip...\n",
      "Done! Dataset ml-100k has been saved to /Users/maksm/.surprise_data/ml-100k\n"
     ]
    }
   ],
   "source": [
    "data = Dataset.load_builtin('ml-100k')"
   ]
  },
  {
   "cell_type": "markdown",
   "id": "6ef629ad",
   "metadata": {},
   "source": [
    "### Крос-валідація на моделі матричної факторизації SVD"
   ]
  },
  {
   "cell_type": "code",
   "execution_count": 4,
   "id": "0840fbae",
   "metadata": {},
   "outputs": [
    {
     "name": "stdout",
     "output_type": "stream",
     "text": [
      "Evaluating RMSE, MAE of algorithm SVD on 5 split(s).\n",
      "\n",
      "                  Fold 1  Fold 2  Fold 3  Fold 4  Fold 5  Mean    Std     \n",
      "RMSE (testset)    0.9419  0.9340  0.9356  0.9400  0.9339  0.9371  0.0033  \n",
      "MAE (testset)     0.7425  0.7373  0.7368  0.7405  0.7364  0.7387  0.0024  \n",
      "Fit time          0.75    0.70    0.79    0.77    0.76    0.75    0.03    \n",
      "Test time         0.13    0.13    0.13    0.07    0.13    0.12    0.02    \n"
     ]
    },
    {
     "data": {
      "text/plain": [
       "{'test_rmse': array([0.94193711, 0.93401087, 0.93562071, 0.9400364 , 0.93389946]),\n",
       " 'test_mae': array([0.74249592, 0.73725943, 0.73679672, 0.74051137, 0.73636439]),\n",
       " 'fit_time': (0.7466118335723877,\n",
       "  0.7007889747619629,\n",
       "  0.7913739681243896,\n",
       "  0.7676379680633545,\n",
       "  0.7615222930908203),\n",
       " 'test_time': (0.1345381736755371,\n",
       "  0.12739300727844238,\n",
       "  0.1257481575012207,\n",
       "  0.07040786743164062,\n",
       "  0.13417983055114746)}"
      ]
     },
     "execution_count": 4,
     "metadata": {},
     "output_type": "execute_result"
    }
   ],
   "source": [
    "algorithm_svd = SVD()\n",
    "\n",
    "cross_validate(algorithm_svd, data, measures=[\"RMSE\", \"MAE\"], cv=5, verbose=True) "
   ]
  },
  {
   "cell_type": "markdown",
   "id": "dd690525",
   "metadata": {},
   "source": [
    "### Результати крос-валідації для алгоритму SVD показують наступне:\n",
    "\n",
    "* RMSE (середньо-квадратична помилка): Середнє значення: 0.9371 Стандартне відхилення: 0.0033\n",
    "\n",
    "* MAE (середня абсолютна помилка): Середнє значення: 0.7387 Стандартне відхилення: 0.0024\n",
    "\n",
    "* Час навчання (Fit time): Середнє значення: 0.75 сек Стандартне відхилення: 0.03 сек\n",
    "\n",
    "* Час тестування (Test time): Середнє значення: 0.12 сек Стандартне відхилення: 0.02 сек\n",
    "\n",
    "Ці результати вказують на те, що модель SVD має досить низьке значення середньо-квадратичної та середньої абсолютної помилок, що вказує на гарну точність моделі при прогнозуванні рейтингів. Також, час навчання та тестування є прийнятними і не сильно відрізняються між підсумковими фолдами."
   ]
  },
  {
   "cell_type": "markdown",
   "id": "01d809ab",
   "metadata": {},
   "source": [
    "### Крос-валідація на моделі матричної факторизації SVD++"
   ]
  },
  {
   "cell_type": "code",
   "execution_count": 5,
   "id": "f6260ea5",
   "metadata": {},
   "outputs": [
    {
     "name": "stdout",
     "output_type": "stream",
     "text": [
      "Evaluating RMSE, MAE of algorithm SVDpp on 5 split(s).\n",
      "\n",
      "                  Fold 1  Fold 2  Fold 3  Fold 4  Fold 5  Mean    Std     \n",
      "RMSE (testset)    0.9188  0.9223  0.9155  0.9200  0.9198  0.9193  0.0022  \n",
      "MAE (testset)     0.7199  0.7216  0.7190  0.7218  0.7228  0.7210  0.0014  \n",
      "Fit time          11.44   11.58   11.46   11.33   11.61   11.48   0.10    \n",
      "Test time         3.19    3.12    3.29    3.30    2.92    3.16    0.14    \n"
     ]
    },
    {
     "data": {
      "text/plain": [
       "{'test_rmse': array([0.91881797, 0.92231464, 0.91547459, 0.92002262, 0.91976026]),\n",
       " 'test_mae': array([0.71988952, 0.72156595, 0.71897951, 0.72178284, 0.72278958]),\n",
       " 'fit_time': (11.440852165222168,\n",
       "  11.58205795288086,\n",
       "  11.455650806427002,\n",
       "  11.328891277313232,\n",
       "  11.60959792137146),\n",
       " 'test_time': (3.188601016998291,\n",
       "  3.116645097732544,\n",
       "  3.294145107269287,\n",
       "  3.3007419109344482,\n",
       "  2.922583818435669)}"
      ]
     },
     "execution_count": 5,
     "metadata": {},
     "output_type": "execute_result"
    }
   ],
   "source": [
    "algorithm_svdpp = SVDpp()\n",
    "\n",
    "cross_validate(algorithm_svdpp, data, measures=[\"RMSE\", \"MAE\"], cv=5, verbose=True) "
   ]
  },
  {
   "cell_type": "markdown",
   "id": "8581bf2a",
   "metadata": {},
   "source": [
    "### Результати крос-валідації для алгоритму SVDpp показують наступне:\n",
    "\n",
    "* RMSE (середньо-квадратична помилка): Середнє значення: 0.9193 Стандартне відхилення: 0.0022\n",
    "\n",
    "* MAE (середня абсолютна помилка): Середнє значення: 0.7210 Стандартне відхилення: 0.0014\n",
    "\n",
    "* Час навчання (Fit time): Середнє значення: 11.48 сек Стандартне відхилення: 0.10 сек\n",
    "\n",
    "* Час тестування (Test time): Середнє значення: 3.16 сек Стандартне відхилення: 0.14 сек\n",
    "\n",
    "Алгоритм SVDpp показує гарні результати з точки зору точності прогнозів, яка вимірюється RMSE та MAE. Відзначимо, що SVDpp має більший час навчання та тестування порівняно з SVD, оскільки SVDpp включає додаткові параметри та фактори, що призводить до більшої обчислювальної складності. Важливо збалансувати точність та часові витрати в залежності від конкретних вимог нашого застосування."
   ]
  },
  {
   "cell_type": "markdown",
   "id": "6bbdbe15",
   "metadata": {},
   "source": [
    "### Крос-валідація на моделі матричної факторизації NMF"
   ]
  },
  {
   "cell_type": "code",
   "execution_count": 6,
   "id": "e1ed84a9",
   "metadata": {},
   "outputs": [
    {
     "name": "stdout",
     "output_type": "stream",
     "text": [
      "Evaluating RMSE, MAE of algorithm NMF on 5 split(s).\n",
      "\n",
      "                  Fold 1  Fold 2  Fold 3  Fold 4  Fold 5  Mean    Std     \n",
      "RMSE (testset)    0.9664  0.9551  0.9638  0.9677  0.9600  0.9626  0.0046  \n",
      "MAE (testset)     0.7582  0.7545  0.7553  0.7586  0.7542  0.7562  0.0019  \n",
      "Fit time          1.44    1.40    1.29    1.33    1.46    1.38    0.07    \n",
      "Test time         0.14    0.13    0.07    0.13    0.13    0.12    0.03    \n"
     ]
    },
    {
     "data": {
      "text/plain": [
       "{'test_rmse': array([0.96637839, 0.95508317, 0.96380021, 0.967743  , 0.95997816]),\n",
       " 'test_mae': array([0.75819357, 0.75450874, 0.75530731, 0.75861325, 0.75416907]),\n",
       " 'fit_time': (1.4414598941802979,\n",
       "  1.4037728309631348,\n",
       "  1.288954734802246,\n",
       "  1.3257789611816406,\n",
       "  1.463810920715332),\n",
       " 'test_time': (0.13592910766601562,\n",
       "  0.12946510314941406,\n",
       "  0.06757807731628418,\n",
       "  0.13198399543762207,\n",
       "  0.13120007514953613)}"
      ]
     },
     "execution_count": 6,
     "metadata": {},
     "output_type": "execute_result"
    }
   ],
   "source": [
    "algorithm_nmf = NMF()\n",
    "\n",
    "cross_validate(algorithm_nmf, data, measures=[\"RMSE\", \"MAE\"], cv=5, verbose=True) "
   ]
  },
  {
   "cell_type": "markdown",
   "id": "d4d4919b",
   "metadata": {},
   "source": [
    "### Результати крос-валідації для алгоритму NMF (Non-Negative Matrix Factorization) показують наступне:\n",
    "\n",
    "* RMSE (середньо-квадратична помилка): Середнє значення: 0.9626 Стандартне відхилення: 0.0046\n",
    "\n",
    "* MAE (середня абсолютна помилка): Середнє значення: 0.7562 Стандартне відхилення: 0.0019\n",
    "\n",
    "* Час навчання (Fit time): Середнє значення: 1.38 сек Стандартне відхилення: 0.07 сек\n",
    "\n",
    "* Час тестування (Test time): Середнє значення: 0.12 сек Стандартне відхилення: 0.03 сек\n",
    "\n",
    "Алгоритм NMF також представляє певний рівень точності, але його значення RMSE та MAE трошки вищі порівняно з SVD та SVDpp. Важливо врахувати, що NMF використовує обмеження невід'ємності, що може бути корисним в деяких випадках, особливо якщо значення рейтингів не може бути від'ємним. Зате, час навчання та тестування для NMF є прийнятними."
   ]
  },
  {
   "cell_type": "markdown",
   "id": "3e5ce7c5",
   "metadata": {},
   "source": [
    "### Функція для підбору найкращих параметрів за допомогою крос-валідації"
   ]
  },
  {
   "cell_type": "code",
   "execution_count": 12,
   "id": "176dac18",
   "metadata": {},
   "outputs": [],
   "source": [
    "def model_evaluation(algo, param_grid):\n",
    "    print(f\"\\nAlgorithm: {algo.__name__}\")\n",
    "    \n",
    "    # Створення об'єкта GridSearchCV\n",
    "    grid_search = GridSearchCV(algo, param_grid, measures=['rmse', 'mae'], cv=3)\n",
    "    \n",
    "    # Запуск крос-валідації\n",
    "    grid_search.fit(data)\n",
    "    \n",
    "    # Виведення найкращих параметрів та результатів\n",
    "    print(f\"Best parameters: {grid_search.best_params}\")\n",
    "    print(f\"Best RMSE: {grid_search.best_score['rmse']:.4f}\")\n",
    "\n",
    "    # Оцінка моделі на весь набір даних (тренувальний та тестовий)\n",
    "    algo_instance = grid_search.best_estimator['rmse']\n",
    "    algo_instance.fit(data.build_full_trainset())\n",
    "    predictions = algo_instance.test(data.build_full_trainset().build_testset())\n",
    "    \n",
    "    # Оцінка моделі\n",
    "    print(f\"\\nTrainset Accuracy (RMSE): {accuracy.rmse(predictions):.4f}\")"
   ]
  },
  {
   "cell_type": "markdown",
   "id": "18c8e7ba",
   "metadata": {},
   "source": [
    "### Визначення найкращих параметрів моделі матричної факторизації SVD за допомогою крос-валідації"
   ]
  },
  {
   "cell_type": "code",
   "execution_count": 15,
   "id": "0e548038",
   "metadata": {},
   "outputs": [
    {
     "name": "stdout",
     "output_type": "stream",
     "text": [
      "\n",
      "Algorithm: SVD\n",
      "Best parameters: {'rmse': {'n_factors': 10, 'n_epochs': 10, 'lr_all': 0.005, 'reg_all': 0.02}, 'mae': {'n_factors': 10, 'n_epochs': 10, 'lr_all': 0.005, 'reg_all': 0.02}}\n",
      "Best RMSE: 0.9483\n",
      "RMSE: 0.9139\n",
      "\n",
      "Trainset Accuracy (RMSE): 0.9139\n"
     ]
    }
   ],
   "source": [
    "param_grid = {\n",
    "    'n_factors': [10, 20, 30],\n",
    "    'n_epochs': [1, 5, 10],\n",
    "    'lr_all': [0.002, 0.005],\n",
    "    'reg_all': [0.02, 0.1]\n",
    "}\n",
    "\n",
    "algorithm_svd = SVD\n",
    "model_evaluation(algorithm_svd, param_grid)"
   ]
  },
  {
   "cell_type": "markdown",
   "id": "65c55c1a",
   "metadata": {},
   "source": [
    "#### Аналіз результатів:\n",
    "\n",
    "* Після пошуку оптимальних параметрів за допомогою крос-валідації найкращі параметри для алгоритму SVD визначені як:\n",
    "\n",
    "n_factors: 10 n_epochs: 10 lr_all: 0.005 reg_all: 0.02\n",
    "\n",
    "* Найкращий RMSE: 0.9483\n",
    "\n",
    "Найкращі параметри були використані для тренування моделі на повному тренувальному наборі даних, і її точність була оцінена на всьому наборі даних. Оцінка моделі на весь набір даних показала RMSE рівний 0.9139.\n",
    "\n",
    "Загалом, результати показують, що модель SVD показала гарні характеристики. Найкращі параметри можуть бути змінені під час налаштування моделі. Значення RMSE є досить низькими, що свідчить про добру точність моделі у прогнозуванні рейтингів на всьому наборі даних. Таким чином, SVD із відповідними параметрами є ефективною моделлю для цього датасету, і вона може бути використана для рекомендаційного аналізу з задовільною точністю."
   ]
  },
  {
   "cell_type": "markdown",
   "id": "dc23a24e",
   "metadata": {},
   "source": [
    "### Визначення найкращих параметрів моделі матричної факторизації SVDpp за допомогою крос-валідації"
   ]
  },
  {
   "cell_type": "code",
   "execution_count": 16,
   "id": "207e0053",
   "metadata": {},
   "outputs": [
    {
     "name": "stdout",
     "output_type": "stream",
     "text": [
      "\n",
      "Algorithm: SVDpp\n",
      "Best parameters: {'rmse': {'n_factors': 30, 'n_epochs': 10, 'lr_all': 0.005, 'reg_all': 0.02}, 'mae': {'n_factors': 30, 'n_epochs': 10, 'lr_all': 0.005, 'reg_all': 0.02}}\n",
      "Best RMSE: 0.9425\n",
      "RMSE: 0.8730\n",
      "\n",
      "Trainset Accuracy (RMSE): 0.8730\n"
     ]
    }
   ],
   "source": [
    "param_grid_svdpp = {\n",
    "    'n_factors': [10, 20, 30],\n",
    "    'n_epochs': [1, 5, 10],\n",
    "    'lr_all': [0.002, 0.005],\n",
    "    'reg_all': [0.02, 0.1]\n",
    "}\n",
    "\n",
    "algorithm_svdpp = SVDpp\n",
    "model_evaluation(algorithm_svdpp, param_grid)"
   ]
  },
  {
   "cell_type": "markdown",
   "id": "42f39f58",
   "metadata": {},
   "source": [
    "#### Аналіз результатів:\n",
    "\n",
    "* Після пошуку оптимальних параметрів за допомогою крос-валідації найкращі параметри для алгоритму SVD визначені як:\n",
    "\n",
    "n_factors: 30 n_epochs: 10 lr_all: 0.005 reg_all: 0.02\n",
    "\n",
    "* Найкращий RMSE: 0.9425\n",
    "\n",
    "Найкращі параметри були використані для тренування моделі на повному тренувальному наборі даних, і її точність була оцінена на всьому наборі даних. Оцінка моделі на весь набір даних показала RMSE рівний 0.8730. \n",
    "\n",
    "Загалом, результати показують, що модель SVD++ показала гарні характеристики. Найкращі параметри можуть бути змінені під час налаштування моделі. Значення RMSE є досить низькими, що свідчить про добру точність моделі у прогнозуванні рейтингів на всьому наборі даних. Таким чином, SVD++ із відповідними параметрами також є ефективною моделлю для цього датасету, і вона може бути використана для рекомендаційного аналізу з задовільною точністю."
   ]
  },
  {
   "cell_type": "markdown",
   "id": "5eb25f5f",
   "metadata": {},
   "source": [
    "### Визначення найкращих параметрів моделі матричної факторизації NMF за допомогою крос-валідації"
   ]
  },
  {
   "cell_type": "code",
   "execution_count": 18,
   "id": "acb724fb",
   "metadata": {},
   "outputs": [
    {
     "name": "stdout",
     "output_type": "stream",
     "text": [
      "\n",
      "Algorithm: NMF\n",
      "Best parameters: {'rmse': {'n_factors': 10, 'n_epochs': 5, 'reg_pu': 0.1, 'reg_qi': 0.1, 'reg_bu': 0.04, 'reg_bi': 0.6}, 'mae': {'n_factors': 10, 'n_epochs': 5, 'reg_pu': 0.1, 'reg_qi': 0.1, 'reg_bu': 0.04, 'reg_bi': 0.6}}\n",
      "Best RMSE: 1.0775\n",
      "RMSE: 1.0153\n",
      "\n",
      "Trainset Accuracy (RMSE): 1.0153\n"
     ]
    }
   ],
   "source": [
    "param_grid = {'n_factors': [10, 20, 30],\n",
    "              'n_epochs': [1, 5, 10],\n",
    "              'reg_pu': [0.06, 0.08, 0.1],\n",
    "              'reg_qi': [0.06, 0.08, 0.1],\n",
    "              'reg_bu': [0.02, 0.04, 0.6],\n",
    "              'reg_bi': [0.02, 0.04, 0.6]}\n",
    "\n",
    "algorithm_nmf = NMF\n",
    "model_evaluation(algorithm_nmf, param_grid)"
   ]
  },
  {
   "cell_type": "markdown",
   "id": "2bbee9a2",
   "metadata": {},
   "source": [
    "### Аналіз результатів:\n",
    "\n",
    "За результатами пошуку оптимальних параметрів за допомогою крос-валідації найкращі параметри для алгоритму NMF визначені як: \n",
    "n_factors: 10 n_epochs: 5 reg_pu: 0.1 reg_qi: 0.1 reg_bu: 0.04 reg_bi: 0.6\n",
    "\n",
    "Найкращий RMSE, отриманий за допомогою крос-валідації, становить 1.0775. Після отримання найкращих параметрів модель була навчена на повному тренувальному наборі даних, і її точність була оцінена на всьому наборі даних. Оцінка моделі на весь набір даних показала RMSE рівний 1.0153.\n",
    "\n",
    "### Висновки:\n",
    "\n",
    "Отримані параметри та оцінки демонструють, що алгоритм NMF з обраною сіткою параметрів має гарні характеристики на даному наборі даних. Значення RMSE 1.0153 вказує на те, що середня квадратична помилка прогнозування рейтингів на весь набір даних досить низька, що може вказувати на ефективність моделі в прогнозуванні рейтингів. Загалом, отримані результати свідчать про те, що модель NMF з вибраними параметрами є ефективною для задачі рекомендаційного аналізу на даному датасеті."
   ]
  }
 ],
 "metadata": {
  "kernelspec": {
   "display_name": "Python 3 (ipykernel)",
   "language": "python",
   "name": "python3"
  },
  "language_info": {
   "codemirror_mode": {
    "name": "ipython",
    "version": 3
   },
   "file_extension": ".py",
   "mimetype": "text/x-python",
   "name": "python",
   "nbconvert_exporter": "python",
   "pygments_lexer": "ipython3",
   "version": "3.11.7"
  }
 },
 "nbformat": 4,
 "nbformat_minor": 5
}
